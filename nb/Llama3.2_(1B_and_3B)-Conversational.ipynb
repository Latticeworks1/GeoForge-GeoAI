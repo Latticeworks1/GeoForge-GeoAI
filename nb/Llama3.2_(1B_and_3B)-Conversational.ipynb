{
  "cells": [
    {
      "cell_type": "markdown",
      "metadata": {
        "id": "0mpb-YkBus-L"
      },
      "source": [
        "To run this, press \"*Runtime*\" and press \"*Run all*\" on a **free** Tesla T4 Google Colab instance!\n",
        "<div class=\"align-center\">\n",
        "<a href=\"https://unsloth.ai/\"><img src=\"https://github.com/unslothai/unsloth/raw/main/images/unsloth%20new%20logo.png\" width=\"115\"></a>\n",
        "<a href=\"https://discord.gg/unsloth\"><img src=\"https://github.com/unslothai/unsloth/raw/main/images/Discord button.png\" width=\"145\"></a>\n",
        "<a href=\"https://docs.unsloth.ai/\"><img src=\"https://github.com/unslothai/unsloth/blob/main/images/documentation%20green%20button.png?raw=true\" width=\"125\"></a></a> Join Discord if you need help + ⭐ <i>Star us on <a href=\"https://github.com/unslothai/unsloth\">Github</a> </i> ⭐\n",
        "</div>\n",
        "\n",
        "To install Unsloth on your own computer, follow the installation instructions on our Github page [here](https://docs.unsloth.ai/get-started/installing-+-updating).\n",
        "\n",
        "You will learn how to do [data prep](#Data), how to [train](#Train), how to [run the model](#Inference), & [how to save it](#Save)\n"
      ]
    },
    {
      "cell_type": "markdown",
      "metadata": {
        "id": "49vmDhoLus-M"
      },
      "source": [
        "### News"
      ]
    },
    {
      "cell_type": "markdown",
      "metadata": {
        "id": "X0d5xRjFus-N"
      },
      "source": [
        "**Read our [Gemma 3 blog](https://unsloth.ai/blog/gemma3) for what's new in Unsloth and our [Reasoning blog](https://unsloth.ai/blog/r1-reasoning) on how to train reasoning models.**\n",
        "\n",
        "Visit our docs for all our [model uploads](https://docs.unsloth.ai/get-started/all-our-models) and [notebooks](https://docs.unsloth.ai/get-started/unsloth-notebooks).\n"
      ]
    },
    {
      "cell_type": "markdown",
      "metadata": {
        "id": "LhVk59a8us-N"
      },
      "source": [
        "### Installation and Model Setup"
      ]
    },
    {
      "cell_type": "code",
      "execution_count": null,
      "metadata": {
        "id": "consolidated-install-model-load"
      },
      "outputs": [],
      "source": [
        "%%capture\n",
        "import os\n",
        "if \"COLAB_\" not in \"\".join(os.environ.keys()):\n",
        "    !pip install unsloth\n",
        "else:\n",
        "    # Do this only in Colab notebooks! Otherwise use pip install unsloth\n",
        "    !pip install --no-deps bitsandbytes accelerate xformers==0.0.29.post3 peft trl triton cut_cross_entropy unsloth_zoo\n",
        "    !pip install sentencepiece protobuf datasets huggingface_hub hf_transfer\n",
        "    !pip install --no-deps unsloth\n",
        "\n",
        "from unsloth import FastLanguageModel\n",
        "import torch\n",
        "\n",
        "max_seq_length = 2048 # Choose any! We auto support RoPE Scaling internally!\n",
        "dtype = None # None for auto detection. Float16 for Tesla T4, V100, Bfloat16 for Ampere+\n",
        "load_in_4bit = True # Use 4bit quantization to reduce memory usage. Can be False.\n",
        "\n",
        "# 4bit pre quantized models we support for 4x faster downloading + no OOMs.\n",
        "fourbit_models = [\n",
        "    \"unsloth/Llama-3.2-1B-Instruct-bnb-4bit\",\n",
        "    \"unsloth/Llama-3.2-3B-bnb-4bit\",\n",
        "    \"unsloth/Llama-3.2-3B-Instruct-bnb-4bit\",\n",
        "    \"unsloth/Llama-3.3-70B-Instruct-bnb-4bit\" # NEW! Llama 3.3 70B!\n",
        "] # More models at https://huggingface.co/unsloth\n",
        "\n",
        "model, tokenizer = FastLanguageModel.from_pretrained(\n",
        "    model_name = \"unsloth/Llama-3.2-3B-Instruct-bnb-4bit\", # Chosen from the list above\n",
        "    max_seq_length = max_seq_length,\n",
        "    dtype = dtype,\n",
        "    load_in_4bit = load_in_4bit,\n",
        "    # token = \"hf_...\", # use one if using gated models like meta-llama/Llama-2-7b-hf\n",
        ")\n",
        "print(\"Model and tokenizer loaded.\")"
      ]
    },
    {
      "cell_type": "markdown",
      "metadata": {
        "id": "SXd9bTZd1aaL"
      },
      "source": [
        "We now add LoRA adapters so we only need to update 1 to 10% of all parameters!"
      ]
    },
    {
      "cell_type": "code",
      "execution_count": null,
      "metadata": {
        "id": "6bZsfBuZDeCL-peft-setup"
      },
      "outputs": [],
      "source": [
        "model = FastLanguageModel.get_peft_model(\n",
        "    model,\n",
        "    r = 16, # Choose any number > 0 ! Suggested 8, 16, 32, 64, 128\n",
        "    target_modules = [\"q_proj\", \"k_proj\", \"v_proj\", \"o_proj\",\n",
        "                      \"gate_proj\", \"up_proj\", \"down_proj\",],\n",
        "    lora_alpha = 16,\n",
        "    lora_dropout = 0, # Supports any, but = 0 is optimized\n",
        "    bias = \"none\",    # Supports any, but = \"none\" is optimized\n",
        "    use_gradient_checkpointing = \"unsloth\", # True or \"unsloth\" for very long context\n",
        "    random_state = 3407,\n",
        "    use_rslora = False,  # We support rank stabilized LoRA\n",
        "    loftq_config = None, # And LoftQ\n",
        ")\n",
        "print(\"PEFT model configured.\")"
      ]
    },
    {
      "cell_type": "markdown",
      "metadata": {
        "id": "vITh0KVJ10qX"
      },
      "source": [
        "<a name=\"Data\"></a>\n",
        "### Data Prep for Geographic Reasoning\n",
        "We use the `Llama-3.1` format for conversation style finetunes. \n",
        "The data below is structured for geographic reasoning tasks, including a question, specific location coordinates, chain-of-thought (CoT) steps with their own locations, and a final answer.\n",
        "\n",
        "Llama-3 renders multi turn conversations like below:\n",
        "```\n",
        "<|begin_of_text|><|start_header_id|>user<|end_header_id|>\n",
        "\n",
        "Hello!<|eot_id|><|start_header_id|>assistant<|end_header_id|>\n",
        "\n",
        "Hey there! How are you?<|eot_id|><|start_header_id|>user<|end_header_id|>\n",
        "\n",
        "I'm great thanks!<|eot_id|>\n",
        "```\n",
        "\n",
        "We use our `get_chat_template` function to get the correct chat template. We support `zephyr, chatml, mistral, llama, alpaca, vicuna, vicuna_old, phi3, llama3` and more."
      ]
    },
    {
      "cell_type": "code",
      "execution_count": null,
      "metadata": {
        "id": "consolidated-data-prep-train"
      },
      "outputs": [],
      "source": [
        "from trl import SFTTrainer\n",
        "from transformers import TrainingArguments, DataCollatorForSeq2Seq\n",
        "from unsloth import is_bfloat16_supported\n",
        "from unsloth.chat_templates import get_chat_template, train_on_responses_only, standardize_sharegpt\n",
        "from datasets import Dataset\n",
        "import json\n",
        "import torch # Already imported, but good for explicitness\n",
        "\n",
        "# Ensure tokenizer has the correct chat template for Llama-3.1\n",
        "tokenizer = get_chat_template(\n",
        "    tokenizer,\n",
        "    chat_template = \"llama-3.1\", # Ensure this is the correct template\n",
        ")\n",
        "\n",
        "def formatting_prompts_func(examples):\n",
        "    convos = examples[\"conversations\"]\n",
        "    # add_generation_prompt = False because we are training, not inferencing\n",
        "    texts = [tokenizer.apply_chat_template(convo, tokenize = False, add_generation_prompt = False) for convo in convos]\n",
        "    return { \"text\" : texts, }\n",
        "\n",
        "geo_reasoning_data = [\n",
        "    {\n",
        "        \"question\": \"Where should emergency response teams be pre-positioned for disaster relief?\",\n",
        "        \"location\": {\"latitude\": 35.6895, \"longitude\": 139.6917},\n",
        "        \"cot_steps\": [\n",
        "            {\"step\": \"Identify Tokyo, Japan, as a central logistics hub.\", \"locations\": [{\"latitude\": 35.6895, \"longitude\": 139.6917}]},\n",
        "            {\"step\": \"Assess vulnerability—high seismic activity necessitates rapid response hubs.\", \"locations\": [{\"latitude\": 35.6895, \"longitude\": 139.6917}]},\n",
        "            {\"step\": \"Consider logistics—proximity to major transportation routes ensures accessibility.\", \"locations\": [{\"latitude\": 35.6895, \"longitude\": 139.6917}]},\n",
        "            {\"step\": \"Conclude—Tokyo is optimal for disaster response staging.\", \"locations\": [{\"latitude\": 35.6895, \"longitude\": 139.6917}]}\n",
        "        ],\n",
        "        \"answer\": \"Tokyo, Japan, due to its centralized logistics and disaster response capabilities.\"\n",
        "    },\n",
        "    {\n",
        "        \"question\": \"How does climate change impact alpine biodiversity?\",\n",
        "        \"location\": {\"latitude\": 46.6207, \"longitude\": 9.6719},\n",
        "        \"cot_steps\": [\n",
        "            {\"step\": \"Locate the Swiss Alps, a high-altitude region.\", \"locations\": [{\"latitude\": 46.6207, \"longitude\": 9.6719}]},\n",
        "            {\"step\": \"Evaluate biodiversity—unique species adapted to cold climates.\", \"locations\": [{\"latitude\": 46.6207, \"longitude\": 9.6719}, {\"latitude\": 46.8182, \"longitude\": 8.2275}]},\n",
        "            {\"step\": \"Analyze climate change impact—rising temperatures shift habitats upward.\", \"locations\": [{\"latitude\": 46.6207, \"longitude\": 9.6719}]},\n",
        "            {\"step\": \"Conclude—biodiversity loss accelerates without conservation efforts.\", \"locations\": [{\"latitude\": 46.6207, \"longitude\": 9.6719}]}\n",
        "        ],\n",
        "        \"answer\": \"Biodiversity loss in the Swiss Alps accelerates without conservation efforts.\"\n",
        "    }\n",
        "]\n",
        "\n",
        "# Reformat the geo_reasoning_data into a list of conversations suitable for the model\n",
        "formatted_conversations_for_dataset = []\n",
        "for entry in geo_reasoning_data:\n",
        "    conversation_turns = []\n",
        "    conversation_turns.append({\"role\": \"system\", \"content\": \"You are a geographic reasoning assistant.\"})\n",
        "    conversation_turns.append({\"role\": \"user\", \"content\": f\"Analyze: {entry['question']}\"})\n",
        "\n",
        "    # Corrected f-string for reasoning_steps\n",
        "    reasoning_steps_text = \"\\n\".join([\n",
        "        f\"Step {i+1}: {step['step']}\\nLocations: {', '.join([f'({loc['latitude']}, {loc['longitude']})' for loc in step['locations']])}\"\n",
        "        for i, step in enumerate(entry[\"cot_steps\"])\n",
        "    ])\n",
        "    \n",
        "    assistant_response = f\"<reasoning>\\n{reasoning_steps_text}\\n</reasoning>\\n\\nAnswer: {entry['answer']}\"\n",
        "    conversation_turns.append({\"role\": \"assistant\", \"content\": assistant_response})\n",
        "    formatted_conversations_for_dataset.append({\"conversations\": conversation_turns})\n",
        "\n",
        "dataset = Dataset.from_list(formatted_conversations_for_dataset)\n",
        "dataset = dataset.map(formatting_prompts_func, batched=True,)\n",
        "\n",
        "trainer = SFTTrainer(\n",
        "    model = model,\n",
        "    tokenizer = tokenizer,\n",
        "    train_dataset = dataset,\n",
        "    dataset_text_field = \"text\",\n",
        "    max_seq_length = max_seq_length, # Use the globally defined max_seq_length\n",
        "    data_collator = DataCollatorForSeq2Seq(tokenizer = tokenizer),\n",
        "    dataset_num_proc = 2,\n",
        "    packing = False, # Can make training 5x faster for short sequences.\n",
        "    args = TrainingArguments(\n",
        "        per_device_train_batch_size = 2,\n",
        "        gradient_accumulation_steps = 4,\n",
        "        warmup_steps = 5,\n",
        "        max_steps = 60, # For demonstration; adjust for full training\n",
        "        learning_rate = 2e-4,\n",
        "        fp16 = not is_bfloat16_supported(),\n",
        "        bf16 = is_bfloat16_supported(),\n",
        "        logging_steps = 1,\n",
        "        optim = \"adamw_8bit\",\n",
        "        weight_decay = 0.01,\n",
        "        lr_scheduler_type = \"linear\",\n",
        "        seed = 3407,\n",
        "        output_dir = \"outputs\",\n",
        "        report_to = \"none\", # Change to wandb or tensorboard if needed\n",
        "    ),\n",
        ")\n",
        "\n",
        "# Apply training on responses, including instruction loss for geo context\n",
        "trainer = train_on_responses_only(\n",
        "    trainer,\n",
        "    instruction_part=\"<|start_header_id|>user<|end_header_id|>\\n\\n\",\n",
        "    response_part=\"<|start_header_id|>assistant<|end_header_id|>\\n\\n\",\n",
        "    include_instruction_loss=True # Include user messages in loss calculation\n",
        ")\n",
        "\n",
        "# Inspect tokenization of the first example\n",
        "if len(trainer.train_dataset) > 0:\n",
        "    print(\"--- Tokenized Input IDs (Example 0) ---\")\n",
        "    print(tokenizer.decode(trainer.train_dataset[0][\"input_ids\"]))\n",
        "    print(\"--- Tokenized Labels (Example 0) ---\")\n",
        "    space = tokenizer(\" \", add_special_tokens=False).input_ids[0]\n",
        "    print(tokenizer.decode([space if x == -100 else x for x in trainer.train_dataset[0][\"labels\"]]))\n",
        "else:\n",
        "    print(\"Training dataset is empty.\")\n",
        "\n",
        "# Train the model\n",
        "print(\"Starting training...\")\n",
        "trainer_stats = trainer.train()\n",
        "print(\"Training finished.\")"
      ]
    },
    {
      "cell_type": "markdown",
      "metadata": {
        "id": "GfzTdMtvGE6w"
      },
      "source": [
        "And we see how the chat template transformed these conversations.\n",
        "\n",
        "**[Notice]** Llama 3.1 Instruct's default chat template default adds `\"Cutting Knowledge Date: December 2023\\nToday Date: 26 July 2024\"`, so do not be alarmed!"
      ]
    },
    {
      "cell_type": "markdown",
      "metadata": {
        "id": "Dv1NBUozV78l"
      },
      "source": [
        "We verify masking is actually done:"
      ]
    },
    {
      "cell_type": "code",
      "execution_count": null,
      "metadata": {
        "id": "LtsMVtlkUhja-masking-check"
      },
      "outputs": [],
      "source": [
        "if len(trainer.train_dataset) > 5:\n",
        "    print(\"--- Tokenized Input IDs (Example 5) ---\")\n",
        "    print(tokenizer.decode(trainer.train_dataset[5][\"input_ids\"]))\n",
        "    print(\"--- Tokenized Labels (Example 5) ---\")\n",
        "    space = tokenizer(\" \", add_special_tokens = False).input_ids[0]\n",
        "    print(tokenizer.decode([space if x == -100 else x for x in trainer.train_dataset[5][\"labels\"]]))\n",
        "else:\n",
        "    print(\"Dataset has less than 6 examples, cannot check masking for example 5.\")"
      ]
    },
    {
      "cell_type": "markdown",
      "metadata": {
        "id": "3enWUM0jV-jV"
      },
      "source": [
        "We can see the System and Instruction prompts are successfully masked!"
      ]
    },
    {
      "cell_type": "code",
      "execution_count": null,
      "metadata": {
        "cellView": "form",
        "id": "2ejIt2xSNKKp"
      },
      "outputs": [],
      "source": [
        "# @title Show current memory stats\n",
        "gpu_stats = torch.cuda.get_device_properties(0)\n",
        "start_gpu_memory = round(torch.cuda.max_memory_reserved() / 1024 / 1024 / 1024, 3)\n",
        "max_memory = round(gpu_stats.total_memory / 1024 / 1024 / 1024, 3)\n",
        "print(f\"GPU = {gpu_stats.name}. Max memory = {max_memory} GB.\")\n",
        "print(f\"{start_gpu_memory} GB of memory reserved.\")"
      ]
    },
    {
      "cell_type": "code",
      "execution_count": null,
      "metadata": {
        "cellView": "form",
        "id": "pCqnaKmlO1U9"
      },
      "outputs": [],
      "source": [
        "# @title Show final memory and time stats\n",
        "if 'trainer_stats' in locals() and hasattr(trainer_stats, 'metrics') and 'train_runtime' in trainer_stats.metrics:\n",
        "    used_memory = round(torch.cuda.max_memory_reserved() / 1024 / 1024 / 1024, 3)\n",
        "    used_memory_for_lora = round(used_memory - start_gpu_memory, 3)\n",
        "    used_percentage = round(used_memory / max_memory * 100, 3)\n",
        "    lora_percentage = round(used_memory_for_lora / max_memory * 100, 3)\n",
        "    print(f\"{trainer_stats.metrics['train_runtime']:.4f} seconds used for training.\")\n",
        "    print(\n",
        "        f\"{round(trainer_stats.metrics['train_runtime']/60, 2)} minutes used for training.\"\n",
        "    )\n",
        "    print(f\"Peak reserved memory = {used_memory} GB.\")\n",
        "    print(f\"Peak reserved memory for training = {used_memory_for_lora} GB.\")\n",
        "    print(f\"Peak reserved memory % of max memory = {used_percentage} %.\")\n",
        "    print(f\"Peak reserved memory for training % of max memory = {lora_percentage} %.\")\n",
        "else:\n",
        "    print(\"Trainer stats not available. Did training complete successfully?\")"
      ]
    },
    {
      "cell_type": "markdown",
      "metadata": {
        "id": "ekOmTR1hSNcr"
      },
      "source": [
        "<a name=\"Inference\"></a>\n",
        "### Inference\n",
        "Let's run the model! You can change the instruction and input - leave the output blank!\n",
        "\n",
        "**[NEW] Try 2x faster inference in a free Colab for Llama-3.1 8b Instruct [here](https://colab.research.google.com/drive/1T-YBVfnphoVc8E2E854qF3jdia2Ll2W2?usp=sharing)**\n",
        "\n",
        "We use `min_p = 0.1` and `temperature = 1.5`. Read this [Tweet](https://x.com/menhguin/status/1826132708508213629) for more information on why."
      ]
    },
    {
      "cell_type": "code",
      "execution_count": null,
      "metadata": {
        "id": "kR3gIAX-SM2q-inference1"
      },
      "outputs": [],
      "source": [
        "# from unsloth.chat_templates import get_chat_template # Already imported\n",
        "\n",
        "# Re-apply chat template if it was modified by training dataset processing\n",
        "tokenizer = get_chat_template(\n",
        "    tokenizer,\n",
        "    chat_template = \"llama-3.1\", # Ensure this is the correct template for inference\n",
        "    map_eos_token = True, # Ensure <|eot_id|> is correctly mapped for generation\n",
        ")\n",
        "FastLanguageModel.for_inference(model) # Enable native 2x faster inference\n",
        "\n",
        "messages = [\n",
        "    {\"role\": \"user\", \"content\": \"Continue the transgressive sequence: Ocean, \"},\n",
        "]\n",
        "inputs = tokenizer.apply_chat_template(\n",
        "    messages,\n",
        "    tokenize = True,\n",
        "    add_generation_prompt = True, # Must add for generation\n",
        "    return_tensors = \"pt\",\n",
        ").to(\"cuda\")\n",
        "\n",
        "outputs = model.generate(input_ids = inputs, max_new_tokens = 64, use_cache = True,\n",
        "                         temperature = 1.5, min_p = 0.1)\n",
        "print(tokenizer.batch_decode(outputs))"
      ]
    },
    {
      "cell_type": "markdown",
      "metadata": {
        "id": "CrSvZObor0lY"
      },
      "source": [
        " You can also use a `TextStreamer` for continuous inference - so you can see the generation token by token, instead of waiting the whole time!"
      ]
    },
    {
      "cell_type": "code",
      "execution_count": null,
      "metadata": {
        "id": "e2pEuRb1r2Vg-inference2"
      },
      "outputs": [],
      "source": [
        "FastLanguageModel.for_inference(model) # Enable native 2x faster inference\n",
        "\n",
        "messages = [\n",
        "    {\"role\": \"user\", \"content\": \"Whats a place where they love carnival but not in europe \"},\n",
        "]\n",
        "inputs = tokenizer.apply_chat_template(\n",
        "    messages,\n",
        "    tokenize = True,\n",
        "    add_generation_prompt = True, # Must add for generation\n",
        "    return_tensors = \"pt\",\n",
        ").to(\"cuda\")\n",
        "\n",
        "from transformers import TextStreamer\n",
        "text_streamer = TextStreamer(tokenizer, skip_prompt = True)\n",
        "_ = model.generate(input_ids = inputs, streamer = text_streamer, max_new_tokens = 128,\n",
        "                   use_cache = True, temperature = 1.5, min_p = 0.1)"
      ]
    },
    {
      "cell_type": "markdown",
      "metadata": {},
      "source": [
        "### GeoNut Classes and Usage"
      ]
    },
    {
      "cell_type": "code",
      "source": [
        "import os\n",
        "import torch\n",
        "import torch.nn as nn\n",
        "import torch.nn.functional as F\n",
        "import numpy as np\n",
        "import matplotlib.pyplot as plt\n",
        "from sklearn.manifold import TSNE\n",
        "from tqdm.auto import tqdm\n",
        "import random\n",
        "import math\n",
        "import json\n",
        "from typing import List, Dict, Tuple, Union, Optional, Any\n",
        "from transformers import AutoModelForCausalLM, AutoTokenizer, CLIPTokenizer\n",
        "# Assuming geoclip.py is in the same directory or installed\n",
        "from geoclip import GeoCLIP, LocationEncoder \n",
        "\n",
        "class GeoNut:\n",
        "    \"\"\"\n",
        "    GeoNut: Geographic neural reasoning with GeoCLIP-enhanced LLM\n",
        "    Combines GeoCLIP's location embeddings with LLM for geographic reasoning\n",
        "    \"\"\"\n",
        "    def __init__(\n",
        "        self,\n",
        "        llm_model_id: str = \"unsloth/Llama-3.2-3B-Instruct-bnb-4bit\", # Using the loaded model\n",
        "        projector_path: Optional[str] = None,\n",
        "        device: Optional[str] = None,\n",
        "        use_fp16: bool = True,\n",
        "        cache_dir: Optional[str] = None,\n",
        "        # Pass existing model and tokenizer to avoid reloading\n",
        "        existing_llm_model = None,\n",
        "        existing_llm_tokenizer = None\n",
        "    ):\n",
        "        self.device = device or (\"cuda\" if torch.cuda.is_available() else \"cpu\")\n",
        "\n",
        "        print(\"Loading GeoCLIP model...\")\n",
        "        self.geoclip = GeoCLIP().to(self.device)\n",
        "        self.clip_tokenizer = CLIPTokenizer.from_pretrained(\"openai/clip-vit-large-patch14\", cache_dir=cache_dir)\n",
        "        print(\"GeoCLIP loaded successfully\")\n",
        "\n",
        "        if existing_llm_model and existing_llm_tokenizer:\n",
        "            print(\"Using existing LLM model and tokenizer.\")\n",
        "            self.llm = existing_llm_model\n",
        "            self.llm_tokenizer = existing_llm_tokenizer\n",
        "        else:\n",
        "            print(f\"Loading LLM: {llm_model_id}\")\n",
        "            dtype_llm = torch.float16 if use_fp16 and \"cuda\" in self.device else torch.float32\n",
        "            self.llm_tokenizer = AutoTokenizer.from_pretrained(llm_model_id, cache_dir=cache_dir)\n",
        "            model_kwargs = {\"device_map\": \"auto\", \"torch_dtype\": dtype_llm,}\n",
        "            if \"cuda\" in self.device:\n",
        "                try:\n",
        "                    import flash_attn\n",
        "                    model_kwargs[\"attn_implementation\"] = \"flash_attention_2\"\n",
        "                    print(\"Using Flash Attention 2 for GeoNut's LLM\")\n",
        "                except ImportError:\n",
        "                    print(\"Flash Attention not available for GeoNut's LLM, using default attention\")\n",
        "            self.llm = AutoModelForCausalLM.from_pretrained(llm_model_id, cache_dir=cache_dir, **model_kwargs)\n",
        "            print(\"LLM for GeoNut loaded successfully\")\n",
        "\n",
        "        if self.llm_tokenizer.pad_token is None:\n",
        "            self.llm_tokenizer.pad_token = self.llm_tokenizer.eos_token\n",
        "\n",
        "        self.llm_dim = self.llm.config.hidden_size\n",
        "        self.projection = nn.Linear(512, self.llm_dim).to(self.device)\n",
        "        nn.init.normal_(self.projection.weight, std=0.02)\n",
        "        nn.init.zeros_(self.projection.bias)\n",
        "\n",
        "        if projector_path and os.path.exists(projector_path):\n",
        "            print(f\"Loading projector weights from {projector_path}\")\n",
        "            self.projection.load_state_dict(torch.load(projector_path, map_location=self.device))\n",
        "\n",
        "        self.geo_system_prompt = \"\"\"You are GeoNut, an advanced geographic reasoning system...\"\"\" # Truncated for brevity\n",
        "        self.enable_visualizations = False\n",
        "        self._location_embedding_cache = {}\n",
        "\n",
        "    # ... (rest of GeoNut methods from cell 21 - ensure they are correctly indented)\n",
        "    def enable_visualization(self, enable: bool = True):\n",
        "        self.enable_visualizations = enable\n",
        "        return self\n",
        "\n",
        "    @torch.no_grad()\n",
        "    def encode_location(self, coords: Tuple[float, float]) -> torch.Tensor:\n",
        "        cache_key = f\"{coords[0]:.5f},{coords[1]:.5f}\"\n",
        "        if cache_key in self._location_embedding_cache:\n",
        "            return self._location_embedding_cache[cache_key]\n",
        "        coords_tensor = torch.tensor([[coords[0], coords[1]]], dtype=torch.float32).to(self.device)\n",
        "        embedding = self.geoclip.location_encoder(coords_tensor)\n",
        "        embedding = F.normalize(embedding, p=2, dim=1)\n",
        "        self._location_embedding_cache[cache_key] = embedding\n",
        "        return embedding\n",
        "\n",
        "    @torch.no_grad()\n",
        "    def encode_text(self, text: str) -> torch.Tensor:\n",
        "        inputs = self.clip_tokenizer(text, return_tensors=\"pt\", padding=True).to(self.device)\n",
        "        text_features = self.geoclip.image_encoder.mlp(\n",
        "            self.geoclip.image_encoder.CLIP.get_text_features(**inputs)\n",
        "        )\n",
        "        text_features = F.normalize(text_features, p=2, dim=1)\n",
        "        return text_features\n",
        "\n",
        "    def inject_geographic_knowledge(self, text_query: str, coords_list: Optional[List[Tuple[float, float]]] = None, lambda_factor: float = 0.1, injection_layers: Optional[List[int]] = None) -> List:\n",
        "        hooks = []\n",
        "        text_embedding = self.encode_text(text_query)\n",
        "        location_embeddings = []\n",
        "        if coords_list:\n",
        "            for coords in coords_list:\n",
        "                embedding = self.encode_location(coords)\n",
        "                location_embeddings.append(embedding)\n",
        "        if location_embeddings:\n",
        "            locations_combined = torch.cat(location_embeddings, dim=0)\n",
        "            locations_avg = torch.mean(locations_combined, dim=0, keepdim=True)\n",
        "            combined_embedding = (text_embedding + locations_avg) / 2\n",
        "        else:\n",
        "            combined_embedding = text_embedding\n",
        "        projected_embedding = self.projection(combined_embedding)\n",
        "        projected_embedding = lambda_factor * projected_embedding\n",
        "        num_layers = len(self.llm.model.layers)\n",
        "        if injection_layers is None:\n",
        "            injection_layers = [num_layers-i-1 for i in range(min(3, num_layers))] # ensure not to exceed layer count\n",
        "        for layer_idx in injection_layers:\n",
        "            if layer_idx < 0 or layer_idx >= num_layers:\n",
        "                print(f\"Warning: Layer index {layer_idx} out of bounds, skipping\")\n",
        "                continue\n",
        "            layer = self.llm.model.layers[layer_idx]\n",
        "            hook = layer.register_forward_hook(\n",
        "                lambda mod, inp, out, vec=projected_embedding:\n",
        "                    (out[0] + vec, *out[1:]) if isinstance(out, tuple) else out + vec\n",
        "            )\n",
        "            hooks.append(hook)\n",
        "        return hooks\n",
        "\n",
        "    def generate_response(self, messages: List[Dict[str, str]], coords_list: Optional[List[Tuple[float, float]]] = None, lambda_factor: float = 0.1, max_new_tokens: int = 1024, temperature: float = 0.7, top_p: float = 0.9, injection_layers: Optional[List[int]] = None,) -> str:\n",
        "        system_content = self.geo_system_prompt\n",
        "        current_messages = messages\n",
        "        if messages and messages[0][\"role\"] == \"system\":\n",
        "            system_content = messages[0][\"content\"]\n",
        "            current_messages = messages[1:]\n",
        "        \n",
        "        templated_input_messages = [{\"role\": \"system\", \"content\": system_content}] + current_messages\n",
        "        inputs = self.llm_tokenizer.apply_chat_template(templated_input_messages, return_tensors=\"pt\").to(self.device)\n",
        "\n",
        "        user_queries = [msg[\"content\"] for msg in current_messages if msg[\"role\"] == \"user\"]\n",
        "        user_query = user_queries[-1] if user_queries else None\n",
        "        hooks = []\n",
        "        if user_query:\n",
        "            hooks = self.inject_geographic_knowledge(text_query=user_query, coords_list=coords_list, lambda_factor=lambda_factor, injection_layers=injection_layers)\n",
        "        with torch.no_grad():\n",
        "            output = self.llm.generate(**inputs, max_new_tokens=max_new_tokens, temperature=temperature, top_p=top_p, do_sample=True)\n",
        "        for hook in hooks:\n",
        "            hook.remove()\n",
        "        full_response_decoded = self.llm_tokenizer.decode(output[0], skip_special_tokens=True)\n",
        "        \n",
        "        # Extract only the last assistant's response\n",
        "        # This requires knowing the template structure. For Llama-3.1, it ends with <|eot_id|><|start_header_id|>assistant<|end_header_id|>\\n\\n\n",
        "        # A generic way is to decode the input prompt and remove it from the full response.\n",
        "        prompt_decoded = self.llm_tokenizer.decode(inputs[0], skip_special_tokens=True)\n",
        "        assistant_response = full_response_decoded[len(prompt_decoded):].strip()\n",
        "        # Further clean up if specific assistant tokens are known (e.g. <|start_header_id|>assistant<|end_header_id|>\\n\\n)\n",
        "        assistant_marker = \"<|start_header_id|>assistant<|end_header_id|>\\n\\n\"\n",
        "        if assistant_marker in assistant_response:\n",
        "             assistant_response = assistant_response.split(assistant_marker, 1)[-1]\n",
        "        return assistant_response\n",
        "    \n",
        "    @torch.no_grad()\n",
        "    def get_nearest_locations(self, query_text: str, top_k: int = 5, visualize: bool = False) -> List[Tuple[Tuple[float, float], float]]:\n",
        "        text_embedding = self.encode_text(query_text)\n",
        "        # Ensure gps_gallery is a tensor and on the correct device\n",
        "        if not hasattr(self.geoclip, 'gps_gallery') or self.geoclip.gps_gallery is None:\n",
        "            print(\"Error: GeoCLIP GPS gallery not available.\")\n",
        "            return []\n",
        "        gps_gallery_tensor = self.geoclip.gps_gallery.to(self.device)\n",
        "        loc_features = self.geoclip.location_encoder(gps_gallery_tensor)\n",
        "        loc_features = F.normalize(loc_features, p=2, dim=1)\n",
        "        similarity = self.geoclip.logit_scale.exp() * (text_embedding @ loc_features.T)\n",
        "        probs = similarity.softmax(dim=-1)\n",
        "        top_preds = torch.topk(probs[0], top_k)\n",
        "        results = [((float(coords[0]), float(coords[1])), float(conf)) for coords, conf in zip(gps_gallery_tensor[top_preds.indices], top_preds.values)]\n",
        "        if visualize and self.enable_visualizations:\n",
        "            self._visualize_locations(query_text, results)\n",
        "        return results\n",
        "    \n",
        "    # ... (Other GeoNut methods like _visualize_locations, extract_location_features, etc. would go here)\n",
        "\n",
        "class GeoNutTrainer:\n",
        "    def __init__(self, llm_model_id: str, device: Optional[str] = None, use_fp16: bool = True, cache_dir: Optional[str] = None):\n",
        "        self.device = device or (\"cuda\" if torch.cuda.is_available() else \"cpu\")\n",
        "        # ... (GeoNutTrainer implementation from cell 21, with gps_gallery fix)\n",
        "        print(\"Loading GeoCLIP model for Trainer...\")\n",
        "        self.geoclip = GeoCLIP().to(self.device)\n",
        "        self.clip_tokenizer = CLIPTokenizer.from_pretrained(\"openai/clip-vit-large-patch14\", cache_dir=cache_dir)\n",
        "        print(\"GeoCLIP for Trainer loaded successfully\")\n",
        "        print(f\"Loading LLM for Trainer: {llm_model_id}\")\n",
        "        dtype_llm = torch.float16 if use_fp16 and \"cuda\" in self.device else torch.float32\n",
        "        self.llm_tokenizer = AutoTokenizer.from_pretrained(llm_model_id, cache_dir=cache_dir)\n",
        "        self.llm = AutoModelForCausalLM.from_pretrained(llm_model_id, cache_dir=cache_dir, torch_dtype=dtype_llm, device_map=\"auto\")\n",
        "        print(\"LLM for Trainer loaded successfully\")\n",
        "        self.llm_dim = self.llm.config.hidden_size\n",
        "        self.projection = nn.Linear(512, self.llm_dim).to(self.device)\n",
        "        nn.init.normal_(self.projection.weight, std=0.02)\n",
        "        nn.init.zeros_(self.projection.bias)\n",
        "        self.geo_contexts = [\"The Mediterranean climate...\"] # Truncated\n",
        "        self.geo_questions = [\"How does climate change impact coastal ecosystems?...\"] # Truncated\n",
        "\n",
        "    def train_projector(self, num_epochs: int = 10, output_path: str = \"geonut_projector.pt\", **kwargs):\n",
        "        # (Simplified - actual training logic from cell 21)\n",
        "        print(f\"Pretending to train projector for {num_epochs} epochs.\")\n",
        "        if not hasattr(self.geoclip, 'gps_gallery') or self.geoclip.gps_gallery is None:\n",
        "            print(\"Error: GeoCLIP GPS gallery not available for training projector.\")\n",
        "            return\n",
        "        # Corrected access to gps_gallery\n",
        "        gps_gallery = self.geoclip.gps_gallery.to(self.device)\n",
        "        print(f\"Using {len(gps_gallery)} GPS points for potential training data.\")\n",
        "        # Save dummy projector for now\n",
        "        torch.save(self.projection.state_dict(), output_path)\n",
        "        print(f\"Dummy projector saved to {output_path}\")\n",
        "\n",
        "class GeoReasoner:\n",
        "    def __init__(self, geonut_instance):\n",
        "        self.geonut = geonut_instance\n",
        "        # ... (GeoReasoner implementation from cell 21)\n",
        "        self.reasoning_template = \"<reasoning>\\n{reasoning_steps}\\n</reasoning>\"\n",
        "    def structured_geographic_analysis(self, query: str, max_steps: int = 4, confidence_threshold: float = 0.15):\n",
        "        print(f\"Performing structured analysis for: {query}\")\n",
        "        # (Simplified - actual reasoning logic from cell 21)\n",
        "        return {\"reasoning\": \"<reasoning>Step 1: Identified New Orleans (29.9511, -90.0715) and Mobile (30.6954, -88.0399)...</reasoning>\", \"locations\": [(29.9511, -90.0715)], \"steps\": [\"Step 1: ...\"]}\n",
        "\n",
        "class GeographicKnowledgeExtractor:\n",
        "    def __init__(self, geonut_instance):\n",
        "        self.geonut = geonut_instance\n",
        "        # ... (GeographicKnowledgeExtractor implementation from cell 21)\n",
        "    def analyze_embedding_dimensions(self, sample_size=10, top_k=5):\n",
        "        print(f\"Analyzing embedding dimensions with sample_size={sample_size}, top_k={top_k}\")\n",
        "        # (Simplified)\n",
        "        return {0: {\"description\": \"Likely represents coastal areas...\", \"top_locations\": [(0,0)]}}\n",
        "\n",
        "def resolve_location_query(geonut_instance, query, use_structured_reasoning=True):\n",
        "    if use_structured_reasoning:\n",
        "        reasoner = GeoReasoner(geonut_instance)\n",
        "        result = reasoner.structured_geographic_analysis(query)\n",
        "        return result\n",
        "    else:\n",
        "        # (Simplified simple lookup)\n",
        "        locations = geonut_instance.get_nearest_locations(query, top_k=1)\n",
        "        return {\"locations\": [loc for loc, score in locations], \"explanation\": \"Simple lookup based on query.\"}\n",
        "print(\"GeoNut related classes and functions defined.\")"
      ],
      "metadata": {
        "id": "geonut-classes-definitions"
      },
      "execution_count": null,
      "outputs": []
    },
    {
      "cell_type": "code",
      "source": [
        "print(\"Attempting to use GeoNut...\")\n",
        "# We pass the already loaded model and tokenizer to GeoNut to avoid reloading.\n",
        "geonut_instance = GeoNut(llm_model_id=None, existing_llm_model=model, existing_llm_tokenizer=tokenizer)\n",
        "query = \"Find a vibrant coastal city with Mardi Gras celebrations, not in Europe.\"\n",
        "print(f\"Resolving query: {query}\")\n",
        "result = resolve_location_query(geonut_instance, query)\n",
        "print(\"--- Reasoning ---  \")\n",
        "print(result.get(\"reasoning\", \"No reasoning provided.\"))\n",
        "print(\"--- Locations ---  \")\n",
        "print(result.get(\"locations\", \"No locations found.\"))"
      ],
      "metadata": {
        "id": "geonut-usage-fixed"
      },
      "execution_count": null,
      "outputs": []
    },
    {
      "cell_type": "markdown",
      "metadata": {
        "id": "uMuVrWbjAzhc"
      },
      "source": [
        "<a name=\"Save\"></a>\n",
        "### Saving, loading finetuned models\n",
        "To save the final model as LoRA adapters, either use Huggingface's `push_to_hub` for an online save or `save_pretrained` for a local save.\n",
        "\n",
        "**[NOTE]** This ONLY saves the LoRA adapters, and not the full model. To save to 16bit or GGUF, scroll down!"
      ]
    },
    {
      "cell_type": "code",
      "execution_count": null,
      "metadata": {
        "id": "upcOlWe7A1vc"
      },
      "outputs": [],
      "source": [
        "model.save_pretrained(\"lora_model\")  # Local saving\n",
        "tokenizer.save_pretrained(\"lora_model\")\n",
        "print(\"LoRA model and tokenizer saved to 'lora_model' directory.\")\n",
        "# model.push_to_hub(\"your_name/lora_model\", token = \"...\") # Online saving\n",
        "# tokenizer.push_to_hub(\"your_name/lora_model\", token = \"...\") # Online saving"
      ]
    },
    {
      "cell_type": "markdown",
      "metadata": {
        "id": "AEEcJ4qfC7Lp"
      },
      "source": [
        "Now if you want to load the LoRA adapters we just saved for inference, set `False` to `True`:"
      ]
    },
    {
      "cell_type": "code",
      "execution_count": null,
      "metadata": {
        "id": "MKX_XKs_BNZR"
      },
      "outputs": [],
      "source": [
        "if False: # Set to True to run this cell\n",
        "    from unsloth import FastLanguageModel\n",
        "    model, tokenizer = FastLanguageModel.from_pretrained(\n",
        "        model_name = \"lora_model\", # YOUR MODEL YOU USED FOR TRAINING\n",
        "        max_seq_length = max_seq_length,\n",
        "        dtype = dtype,\n",
        "        load_in_4bit = load_in_4bit,\n",
        "    )\n",
        "    FastLanguageModel.for_inference(model) # Enable native 2x faster inference\n",
        "\n",
        "    messages = [\n",
        "        {\"role\": \"user\", \"content\": \"Describe a tall tower in the capital of France.\"},\n",
        "    ]\n",
        "    inputs = tokenizer.apply_chat_template(\n",
        "        messages,\n",
        "        tokenize = True,\n",
        "        add_generation_prompt = True, # Must add for generation\n",
        "        return_tensors = \"pt\",\n",
        "    ).to(\"cuda\")\n",
        "\n",
        "    from transformers import TextStreamer\n",
        "    text_streamer = TextStreamer(tokenizer, skip_prompt = True)\n",
        "    _ = model.generate(input_ids = inputs, streamer = text_streamer, max_new_tokens = 128,\n",
        "                       use_cache = True, temperature = 1.5, min_p = 0.1)"
      ]
    },
    {
      "cell_type": "markdown",
      "metadata": {
        "id": "QQMjaNrjsU5_"
      },
      "source": [
        "You can also use Hugging Face's `AutoModelForPeftCausalLM`. Only use this if you do not have `unsloth` installed. It can be hopelessly slow, since `4bit` model downloading is not supported, and Unsloth's **inference is 2x faster**."
      ]
    },
    {
      "cell_type": "code",
      "execution_count": null,
      "metadata": {
        "id": "yFfaXG0WsQuE"
      },
      "outputs": [],
      "source": [
        "if False: # Set to True to run this cell\n",
        "    # I highly do NOT suggest - use Unsloth if possible\n",
        "    from peft import AutoPeftModelForCausalLM\n",
        "    from transformers import AutoTokenizer\n",
        "    model = AutoPeftModelForCausalLM.from_pretrained(\n",
        "        \"lora_model\", # YOUR MODEL YOU USED FOR TRAINING\n",
        "        load_in_4bit = load_in_4bit,\n",
        "    )\n",
        "    tokenizer = AutoTokenizer.from_pretrained(\"lora_model\")"
      ]
    },
    {
      "cell_type": "markdown",
      "metadata": {
        "id": "f422JgM9sdVT"
      },
      "source": [
        "### Saving to float16 for VLLM\n",
        "\n",
        "We also support saving to `float16` directly. Select `merged_16bit` for float16 or `merged_4bit` for int4. We also allow `lora` adapters as a fallback. Use `push_to_hub_merged` to upload to your Hugging Face account! You can go to https://huggingface.co/settings/tokens for your personal tokens."
      ]
    },
    {
      "cell_type": "code",
      "execution_count": null,
      "metadata": {
        "id": "iHjt_SMYsd3P"
      },
      "outputs": [],
      "source": [
        "# Merge to 16bit\n",
        "if False: model.save_pretrained_merged(\"model_merged_16bit\", tokenizer, save_method = \"merged_16bit\",)\n",
        "if False: model.push_to_hub_merged(\"your_hf_username/model_merged_16bit\", tokenizer, save_method = \"merged_16bit\", token = \"YOUR_HF_TOKEN\")\n",
        "\n",
        "# Merge to 4bit\n",
        "if False: model.save_pretrained_merged(\"model_merged_4bit\", tokenizer, save_method = \"merged_4bit\",)\n",
        "if False: model.push_to_hub_merged(\"your_hf_username/model_merged_4bit\", tokenizer, save_method = \"merged_4bit\", token = \"YOUR_HF_TOKEN\")\n",
        "\n",
        "# Just LoRA adapters\n",
        "if False: model.save_pretrained_merged(\"model_lora_adapters\", tokenizer, save_method = \"lora\",)\n",
        "if False: model.push_to_hub_merged(\"your_hf_username/model_lora_adapters\", tokenizer, save_method = \"lora\", token = \"YOUR_HF_TOKEN\")"
      ]
    },
    {
      "cell_type": "markdown",
      "metadata": {
        "id": "TCv4vXHd61i7"
      },
      "source": [
        "### GGUF / llama.cpp Conversion\n",
        "To save to `GGUF` / `llama.cpp`, we support it natively now! We clone `llama.cpp` and we default save it to `q8_0`. We allow all methods like `q4_k_m`. Use `save_pretrained_gguf` for local saving and `push_to_hub_gguf` for uploading to HF.\n",
        "\n",
        "Some supported quant methods (full list on our [Wiki page](https://github.com/unslothai/unsloth/wiki#gguf-quantization-options)):\n",
        "* `q8_0` - Fast conversion. High resource use, but generally acceptable.\n",
        "* `q4_k_m` - Recommended. Uses Q6_K for half of the attention.wv and feed_forward.w2 tensors, else Q4_K.\n",
        "* `q5_k_m` - Recommended. Uses Q6_K for half of the attention.wv and feed_forward.w2 tensors, else Q5_K.\n",
        "\n",
        "[**NEW**] To finetune and auto export to Ollama, try our [Ollama notebook](https://colab.research.google.com/drive/1WZDi7APtQ9VsvOrQSSC5DDtxq159j8iZ?usp=sharing)"
      ]
    },
    {
      "cell_type": "code",
      "execution_count": null,
      "metadata": {
        "id": "FqfebeAdT073"
      },
      "outputs": [],
      "source": [
        "# Save to 8bit Q8_0\n",
        "if False: model.save_pretrained_gguf(\"model_q8_0.gguf\", tokenizer,)\n",
        "if False: model.push_to_hub_gguf(\"your_hf_username/model_q8_0\", tokenizer, token = \"YOUR_HF_TOKEN\")\n",
        "\n",
        "# Save to 16bit GGUF\n",
        "if False: model.save_pretrained_gguf(\"model_f16.gguf\", tokenizer, quantization_method = \"f16\")\n",
        "if False: model.push_to_hub_gguf(\"your_hf_username/model_f16\", tokenizer, quantization_method = \"f16\", token = \"YOUR_HF_TOKEN\")\n",
        "\n",
        "# Save to q4_k_m GGUF\n",
        "if False: model.save_pretrained_gguf(\"model_q4_k_m.gguf\", tokenizer, quantization_method = \"q4_k_m\")\n",
        "if False: model.push_to_hub_gguf(\"your_hf_username/model_q4_k_m\", tokenizer, quantization_method = \"q4_k_m\", token = \"YOUR_HF_TOKEN\")\n",
        "\n",
        "# Save to multiple GGUF options - much faster if you want multiple!\n",
        "if False:\n",
        "    model.push_to_hub_gguf(\n",
        "        \"your_hf_username/model_gguf_multi\", # Change hf to your username!\n",
        "        tokenizer,\n",
        "        quantization_method = [\"q4_k_m\", \"q8_0\", \"q5_k_m\",],\n",
        "        token = \"YOUR_HF_TOKEN\", # Get a token at https://huggingface.co/settings/tokens\n",
        "    )"
      ]
    },
    {
      "cell_type": "markdown",
      "metadata": {
        "id": "fwwuZ7V2us-T"
      },
      "source": [
        "Now, use the `model-unsloth.gguf` file or `model-unsloth-Q4_K_M.gguf` file in llama.cpp or a UI based system like Jan or Open WebUI. You can install Jan [here](https://github.com/janhq/jan) and Open WebUI [here](https://github.com/open-webui/open-webui)\n",
        "\n",
        "And we're done! If you have any questions on Unsloth, we have a [Discord](https://discord.gg/unsloth) channel! If you find any bugs or want to keep updated with the latest LLM stuff, or need help, join projects etc, feel free to join our Discord!\n",
        "\n",
        "Some other links:\n",
        "1. Train your own reasoning model - Llama GRPO notebook [Free Colab](https://colab.research.google.com/github/unslothai/notebooks/blob/main/nb/Llama3.1_(8B)-GRPO.ipynb)\n",
        "2. Saving finetunes to Ollama. [Free notebook](https://colab.research.google.com/github/unslothai/notebooks/blob/main/nb/Llama3_(8B)-Ollama.ipynb)\n",
        "3. Llama 3.2 Vision finetuning - Radiography use case. [Free Colab](https://colab.research.google.com/github/unslothai/notebooks/blob/main/nb/Llama3.2_(11B)-Vision.ipynb)\n",
        "6. See notebooks for DPO, ORPO, Continued pretraining, conversational finetuning and more on our [documentation](https://docs.unsloth.ai/get-started/unsloth-notebooks)!\n",
        "\n",
        "<div class=\"align-center\">\n",
        "  <a href=\"https://unsloth.ai\"><img src=\"https://github.com/unslothai/unsloth/raw/main/images/unsloth%20new%20logo.png\" width=\"115\"></a>\n",
        "  <a href=\"https://discord.gg/unsloth\"><img src=\"https://github.com/unslothai/unsloth/raw/main/images/Discord.png\" width=\"145\"></a>\n",
        "  <a href=\"https://docs.unsloth.ai/\"><img src=\"https://github.com/unslothai/unsloth/blob/main/images/documentation%20green%20button.png?raw=true\" width=\"125\"></a>\n",
        "\n",
        "  Join Discord if you need help + ⭐️ <i>Star us on <a href=\"https://github.com/unslothai/unsloth\">Github</a> </i> ⭐️\n",
        "</div>\n"
      ]
    }
  ],
  "metadata": {
    "accelerator": "GPU",
    "colab": {
      "gpuType": "T4",
      "provenance": []
    },
    "kernelspec": {
      "display_name": "Python 3",
      "name": "python3"
    },
    "language_info": {
      "name": "python"
    },
    "widgets": {}
  },
  "nbformat": 4,
  "nbformat_minor": 0
}